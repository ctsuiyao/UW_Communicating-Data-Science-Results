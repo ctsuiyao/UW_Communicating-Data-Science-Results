{
 "cells": [
  {
   "cell_type": "markdown",
   "metadata": {},
   "source": [
    "Part 1: Problem Description. \n",
    "\n",
    "Kaggle Challenge: Titanic: Machine Learning from Disaster.\n",
    "\n",
    "Goal:\n",
    "The task is to predict whether a given passenger survived the sinking of the Titanic based on various attributes including sex, age, location of the passenger's cabin on the ship, family members, the fare they paid, and other information. \n",
    "\n",
    "Evaluation: Solutions are evaluated by comparing the percentage of correct answers on a test dataset.\n"
   ]
  },
  {
   "cell_type": "markdown",
   "metadata": {},
   "source": [
    "Part 2: Analysis Approach. Write a few sentences describing how you approached the problem. What techniques did you use? \n",
    "\n",
    "\n",
    "First I've calculate a baseline accuracy: I split the data by gender, discovered that female's survival rate is 0.78; male is 0.19. The baseline accuracy is created by predict male not survived, and female survived which gave us a <b> 0.78</b> accuracy.\n",
    "\n",
    "I chose <b>randomforest</b> to train the model. I ignored Age, Cabin attributes since there are 20%, 70% missing values respectively.\n",
    "I also added in few features, which are extracting from other dimensions: family size, if the passenger is alone, and the title from their name."
   ]
  },
  {
   "cell_type": "code",
   "execution_count": 131,
   "metadata": {},
   "outputs": [
    {
     "data": {
      "image/png": "[encoded data removed]",
      "text/plain": [
       "<Figure size 432x288 with 1 Axes>"
      ]
     },
     "metadata": {
      "needs_background": "light"
     },
     "output_type": "display_data"
    },
    {
     "name": "stdout",
     "output_type": "stream",
     "text": [
      "% of women who survived: 0.74\n",
      "% of men who survived: 0.19\n"
     ]
    }
   ],
   "source": [
    "%matplotlib inline\n",
    "import pandas as pd\n",
    "import matplotlib.pyplot as plt\n",
    "import numpy as np\n",
    "from sklearn.metrics import accuracy_score\n",
    "from sklearn.ensemble import RandomForestClassifier\n",
    "\n",
    "train_data = pd.read_csv(\"train.csv\")\n",
    "test_data = pd.read_csv(\"test.csv\")\n",
    "\n",
    "def basic_details(df):\n",
    "    b = pd.DataFrame()\n",
    "    b['Missing value, %'] = round(df.isnull().sum()/df.shape[0]*100)\n",
    "    b['N unique value'] = df.nunique()\n",
    "    b['dtype'] = df.dtypes\n",
    "    return b\n",
    "\n",
    "train_details = basic_details(train_data)\n",
    "test_details = basic_details(test_data)\n",
    "\n",
    "\n",
    "train_pivot = train_data[['Sex', 'Survived', 'Name']].groupby(['Sex', 'Survived']).count();\n",
    "objects = [ x[0]+\"_\"+str(x[1]) for x in train_pivot.index]\n",
    "y_pos = np.arange(len(objects))\n",
    "performance = list(train_pivot['Name'].values)\n",
    "\n",
    "plt.bar(y_pos, performance, align='center', alpha=0.5)\n",
    "plt.xticks(y_pos, objects)\n",
    "plt.ylabel('Count')\n",
    "plt.title('Survival Count by Gender')\n",
    "\n",
    "plt.show()\n",
    "\n",
    "\n",
    "\n",
    "women = train_data.loc[train_data.Sex == 'female'][\"Survived\"]\n",
    "rate_women = sum(women)/len(women)\n",
    "\n",
    "men = train_data.loc[train_data.Sex == 'male'][\"Survived\"]\n",
    "rate_men = sum(men)/len(men)\n",
    "\n",
    "\n",
    "\n",
    "print(\"% of women who survived: {:.2f}\".format(rate_women))\n",
    "print(\"% of men who survived: {:.2f}\".format(rate_men))\n"
   ]
  },
  {
   "cell_type": "code",
   "execution_count": 132,
   "metadata": {},
   "outputs": [
    {
     "name": "stdout",
     "output_type": "stream",
     "text": [
      "Accuracy: 0.78\n"
     ]
    }
   ],
   "source": [
    "x_train, x_test, y_train, y_test = train_test_split(train_data, train_data['Survived'], test_size=0.20, random_state=42)\n",
    "predictions = x_test['Sex'].apply(lambda x: 1 if x==\"female\" else 0)\n",
    "baseline_accuracy = accuracy_score(y_test, predictions)\n",
    "print(\"Accuracy: {:.2f}\".format(baseline_accuracy))"
   ]
  },
  {
   "cell_type": "code",
   "execution_count": 133,
   "metadata": {},
   "outputs": [
    {
     "name": "stdout",
     "output_type": "stream",
     "text": [
      "             Missing value, %  N unique value    dtype\n",
      "PassengerId               0.0             891    int64\n",
      "Survived                  0.0               2    int64\n",
      "Pclass                    0.0               3    int64\n",
      "Name                      0.0             891   object\n",
      "Sex                       0.0               2   object\n",
      "Age                      20.0              88  float64\n",
      "SibSp                     0.0               7    int64\n",
      "Parch                     0.0               7    int64\n",
      "Ticket                    0.0             681   object\n",
      "Fare                      0.0             248  float64\n",
      "Cabin                    77.0             147   object\n",
      "Embarked                  0.0               3   object\n",
      "             Missing value, %  N unique value    dtype\n",
      "PassengerId               0.0             418    int64\n",
      "Pclass                    0.0               3    int64\n",
      "Name                      0.0             418   object\n",
      "Sex                       0.0               2   object\n",
      "Age                      21.0              79  float64\n",
      "SibSp                     0.0               7    int64\n",
      "Parch                     0.0               8    int64\n",
      "Ticket                    0.0             363   object\n",
      "Fare                      0.0             169  float64\n",
      "Cabin                    78.0              76   object\n",
      "Embarked                  0.0               3   object\n"
     ]
    }
   ],
   "source": [
    "print(train_details)\n",
    "print(test_details)"
   ]
  },
  {
   "cell_type": "markdown",
   "metadata": {},
   "source": [
    "Feature Engineering: adding in more dimension"
   ]
  },
  {
   "cell_type": "code",
   "execution_count": 134,
   "metadata": {},
   "outputs": [
    {
     "name": "stdout",
     "output_type": "stream",
     "text": [
      "Categorical columns:\n",
      " ['Sex', 'Embarked', 'FamilySize', 'IsAlone', 'Title']\n",
      "\n",
      "Numeric columns:\n",
      " ['Pclass', 'Age', 'SibSp', 'Parch', 'Fare', 'Is_Married']\n"
     ]
    },
    {
     "name": "stderr",
     "output_type": "stream",
     "text": [
      "/Library/Frameworks/Python.framework/Versions/3.7/lib/python3.7/site-packages/pandas/core/indexing.py:205: SettingWithCopyWarning: \n",
      "A value is trying to be set on a copy of a slice from a DataFrame\n",
      "\n",
      "See the caveats in the documentation: http://pandas.pydata.org/pandas-docs/stable/user_guide/indexing.html#returning-a-view-versus-a-copy\n",
      "  self._setitem_with_indexer(indexer, value)\n"
     ]
    }
   ],
   "source": [
    "# Creating a categorical variable for Family Sizes\n",
    "train_data['FamilySize'] = ''\n",
    "train_data['FamilySize'].loc[(train_data['SibSp'] <= 2)] = 'small'\n",
    "train_data['FamilySize'].loc[(train_data['SibSp'] > 2) & (train_data['SibSp'] <= 5 )] = 'medium'\n",
    "train_data['FamilySize'].loc[(train_data['SibSp'] > 5)] = 'large'\n",
    "\n",
    "# Creating a categorical variable to tell if the passenger is alone\n",
    "train_data['IsAlone'] = ''\n",
    "train_data['IsAlone'].loc[((train_data['SibSp'] + train_data['Parch']) > 0)] = 'no'\n",
    "train_data['IsAlone'].loc[((train_data['SibSp'] + train_data['Parch']) == 0)] = 'yes'\n",
    "\n",
    "# Extracting the role they play in life, and group it in larger group\n",
    "train_data['Title'] = train_data['Name'].str.split(', ', expand=True)[1].str.split('.', expand=True)[0]\n",
    "train_data['Is_Married'] = 0\n",
    "train_data['Is_Married'].loc[train_data['Title'] == 'Mrs'] = 1\n",
    "train_data['Title'] = train_data['Title'].replace(['Miss', 'Mrs','Ms', 'Mlle', 'Lady', 'Mme', 'the Countess', 'Dona'], 'Miss/Mrs/Ms')\n",
    "train_data['Title'] = train_data['Title'].replace(['Dr', 'Col', 'Major', 'Jonkheer', 'Capt', 'Sir', 'Don', 'Rev'], 'Dr/Military/Noble/Clergy')\n",
    "\n",
    "\n",
    "# Creating a categorical variable for Family Sizes\n",
    "test_data['FamilySize'] = ''\n",
    "test_data['FamilySize'].loc[(test_data['SibSp'] <= 2)] = 'small'\n",
    "test_data['FamilySize'].loc[(test_data['SibSp'] > 2) & (test_data['SibSp'] <= 5 )] = 'medium'\n",
    "test_data['FamilySize'].loc[(test_data['SibSp'] > 5)] = 'large'\n",
    "\n",
    "# Creating a categorical variable to tell if the passenger is alone\n",
    "test_data['IsAlone'] = ''\n",
    "test_data['IsAlone'].loc[((test_data['SibSp'] + test_data['Parch']) > 0)] = 'no'\n",
    "test_data['IsAlone'].loc[((test_data['SibSp'] + test_data['Parch']) == 0)] = 'yes'\n",
    "\n",
    "# Extracting the role they play in life, and group it in larger group\n",
    "test_data['Title'] = test_data['Name'].str.split(', ', expand=True)[1].str.split('.', expand=True)[0]\n",
    "test_data['Is_Married'] = 0\n",
    "test_data['Is_Married'].loc[test_data['Title'] == 'Mrs'] = 1\n",
    "test_data['Title'] = test_data['Title'].replace(['Miss', 'Mrs','Ms', 'Mlle', 'Lady', 'Mme', 'the Countess', 'Dona'], 'Miss/Mrs/Ms')\n",
    "test_data['Title'] = test_data['Title'].replace(['Dr', 'Col', 'Major', 'Jonkheer', 'Capt', 'Sir', 'Don', 'Rev'], 'Dr/Military/Noble/Clergy')\n",
    "\n",
    "def get_feature_names(df):\n",
    "    # Splitting the target\n",
    "    target = df['Survived']\n",
    "    # Dropping unused columns from the feature set\n",
    "    df.drop(['PassengerId', 'Survived', 'Ticket', 'Name', 'Cabin'], axis=1, inplace=True)\n",
    "\n",
    "    # Splitting categorical and numerical column dataframes\n",
    "    categorical_df = df.select_dtypes(include=['object'])\n",
    "    numeric_df = df.select_dtypes(exclude=['object'])\n",
    "\n",
    "    # And then, storing the names of categorical and numerical columns.\n",
    "    categorical_columns = list(categorical_df.columns)\n",
    "    numeric_columns = list(numeric_df.columns)\n",
    "    \n",
    "    print(\"Categorical columns:\\n\", categorical_columns)\n",
    "    print(\"\\nNumeric columns:\\n\", numeric_columns)\n",
    "\n",
    "    return target, categorical_columns, numeric_columns\n",
    "\n",
    "target, categorical_columns, numeric_columns = get_feature_names(train_data)\n"
   ]
  },
  {
   "cell_type": "markdown",
   "metadata": {},
   "source": [
    "Part 3: Initial Solution. \n",
    "\n",
    "I first created an evaluation function, the calculate the accuracy of the model.\n",
    "I split the data into train/test set to train the model, using randomforest from Skilearn package.\n"
   ]
  },
  {
   "cell_type": "code",
   "execution_count": 135,
   "metadata": {},
   "outputs": [],
   "source": [
    "# function to evalulate our result\n",
    "def evaluateModel(classifier, x_test, y_test):\n",
    "    predictions = classifier.predict(x_test)\n",
    "    accuracy = accuracy_score(y_test, predictions)\n",
    "    print(\"Accuracy: {:.2f}\".format(accuracy))\n",
    "    return accuracy\n"
   ]
  },
  {
   "cell_type": "code",
   "execution_count": 143,
   "metadata": {},
   "outputs": [
    {
     "name": "stdout",
     "output_type": "stream",
     "text": [
      "Accuracy: 0.82\n"
     ]
    },
    {
     "data": {
      "text/plain": [
       "'5.0% increase in accuracy'"
      ]
     },
     "execution_count": 143,
     "metadata": {},
     "output_type": "execute_result"
    }
   ],
   "source": [
    "features = ['Pclass', 'Sex', 'SibSp', 'Parch', 'Embarked', 'FamilySize', 'IsAlone', 'Title', 'Is_Married']\n",
    "train_data_processed = pd.get_dummies(train_data[features])\n",
    "x_train, x_test, y_train, y_test = train_test_split(train_data_processed, target, test_size=0.20, random_state=42)\n",
    "y_train = y_train.to_numpy() # Transforming training targets into numpy arrays\n",
    "y_test = y_test.to_numpy() # Transforming test targets into numpy arrays\n",
    "\n",
    "\n",
    "model = RandomForestClassifier(n_estimators=100, max_depth=5, random_state=1)\n",
    "model.fit(x_train, y_train)\n",
    "\n",
    "\n",
    "random_forest_result = evaluateModel(model, x_test, y_test)\n",
    "\"{:.1f}% increase in accuracy\".format(((random_forest_result-baseline_accuracy)/baseline_accuracy)*100)"
   ]
  },
  {
   "cell_type": "markdown",
   "metadata": {},
   "source": [
    "Part 4: Initial Solution Analysis. Write a few sentences assessing your approach. Did it work? What do you think the problems were?\n",
    "\n",
    "My approach recived a 0.82 accuracy score, which has a 5% increse in accuracy."
   ]
  },
  {
   "cell_type": "markdown",
   "metadata": {},
   "source": [
    "Part 5: Revised Solution and Analysis. Write a few sentences describing how you improved on your solution, and whether or not it worked.\n",
    "\n",
    "Next, I fill in the <b>missing value</b> for <b>\"Age\"</b> by using the <b>mean & median</b> of other people's age.\n",
    "Both accuracy score increase 0.01 (0.68%)"
   ]
  },
  {
   "cell_type": "code",
   "execution_count": 147,
   "metadata": {},
   "outputs": [
    {
     "name": "stdout",
     "output_type": "stream",
     "text": [
      "Accuracy: 0.83\n"
     ]
    },
    {
     "data": {
      "text/plain": [
       "'0.68% increase in accuracy'"
      ]
     },
     "execution_count": 147,
     "metadata": {},
     "output_type": "execute_result"
    }
   ],
   "source": [
    "\n",
    "\n",
    "features = ['Pclass', 'Sex', 'Age', 'SibSp', 'Parch', 'Embarked', 'FamilySize', 'IsAlone', 'Title', 'Is_Married']\n",
    "train_data_processed = pd.get_dummies(train_data[features])\n",
    "train_data_processed['Age'] = train_data_processed['Age'].fillna(-1)\n",
    "\n",
    "imputer = SimpleImputer(missing_values=-1, strategy='mean')\n",
    "train_data_processed.Age = imputer.fit_transform(train_data_processed['Age'].values.reshape(-1,1))[:,0]\n",
    "train_data_processed.Age = imputer.fit_transform(train_data_processed['Age'].values.reshape(-1,1))[:,0]\n",
    "\n",
    "x_train, x_test, y_train, y_test = train_test_split(train_data_processed, target, test_size=0.20, random_state=42)\n",
    "y_train = y_train.to_numpy() # Transforming training targets into numpy arrays\n",
    "y_test = y_test.to_numpy() # Transforming test targets into numpy arrays\n",
    "\n",
    "\n",
    "model_age_mean = RandomForestClassifier(n_estimators=100, max_depth=5, random_state=1)\n",
    "model_age_mean.fit(x_train, y_train)\n",
    "\n",
    "\n",
    "random_forest_result_age_mean = evaluateModel(model_age_mean, x_test, y_test)\n",
    "\"{:.2f}% increase in accuracy\".format(((random_forest_result_age_mean-random_forest_result)/random_forest_result)*100)"
   ]
  },
  {
   "cell_type": "code",
   "execution_count": 146,
   "metadata": {},
   "outputs": [
    {
     "name": "stdout",
     "output_type": "stream",
     "text": [
      "Accuracy: 0.83\n"
     ]
    },
    {
     "data": {
      "text/plain": [
       "'0.68% increase in accuracy'"
      ]
     },
     "execution_count": 146,
     "metadata": {},
     "output_type": "execute_result"
    }
   ],
   "source": [
    "\n",
    "\n",
    "features = ['Pclass', 'Sex', 'Age', 'SibSp', 'Parch', 'Embarked', 'FamilySize', 'IsAlone', 'Title', 'Is_Married']\n",
    "train_data_processed = pd.get_dummies(train_data[features])\n",
    "train_data_processed['Age'] = train_data_processed['Age'].fillna(-1)\n",
    "\n",
    "imputer = SimpleImputer(missing_values=-1, strategy='median')\n",
    "train_data_processed.Age = imputer.fit_transform(train_data_processed['Age'].values.reshape(-1,1))[:,0]\n",
    "train_data_processed.Age = imputer.fit_transform(train_data_processed['Age'].values.reshape(-1,1))[:,0]\n",
    "\n",
    "x_train, x_test, y_train, y_test = train_test_split(train_data_processed, target, test_size=0.20, random_state=42)\n",
    "y_train = y_train.to_numpy() # Transforming training targets into numpy arrays\n",
    "y_test = y_test.to_numpy() # Transforming test targets into numpy arrays\n",
    "\n",
    "\n",
    "model_age_median = RandomForestClassifier(n_estimators=100, max_depth=5, random_state=1)\n",
    "model_age_median.fit(x_train, y_train)\n",
    "\n",
    "\n",
    "random_forest_result_age_median = evaluateModel(model_age_median, x_test, y_test)\n",
    "\"{:.2f}% increase in accuracy\".format(((random_forest_result_age_median-random_forest_result)/random_forest_result)*100)"
   ]
  },
  {
   "cell_type": "code",
   "execution_count": null,
   "metadata": {},
   "outputs": [],
   "source": []
  }
 ],
 "metadata": {
  "kernelspec": {
   "display_name": "Python 3",
   "language": "python",
   "name": "python3"
  },
  "language_info": {
   "codemirror_mode": {
    "name": "ipython",
    "version": 3
   },
   "file_extension": ".py",
   "mimetype": "text/x-python",
   "name": "python",
   "nbconvert_exporter": "python",
   "pygments_lexer": "ipython3",
   "version": "3.7.2"
  }
 },
 "nbformat": 4,
 "nbformat_minor": 2
}
